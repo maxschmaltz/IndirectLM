{
 "cells": [
  {
   "cell_type": "markdown",
   "id": "508c6238",
   "metadata": {},
   "source": [
    "## Analysis of Experimental Outcomes. Llama3.2-1B.\n",
    "\n",
    "In this notebook, we inspect the outcomes of the speaker experiment (original experiment 2 in Achimova et al. 2025). The distribution of the indirect responses will be investigated following the original procedures from Achimova et al. (2025). That includes:\n",
    "\n",
    "1. Initial inspection of the outcome distributions.\n",
    "2. Investigating the effect of opinions match/mismatch on the proportions of indirect speech with respect to the conversational goals.\n",
    "3. Investigating the effect of speaker's opinion on the proportions of indirect speech with respect to the conversational goals."
   ]
  },
  {
   "cell_type": "markdown",
   "id": "4e0a0018",
   "metadata": {},
   "source": [
    "First, we load the experimental outcomes."
   ]
  },
  {
   "cell_type": "code",
   "execution_count": 24,
   "id": "e671da06",
   "metadata": {},
   "outputs": [],
   "source": [
    "import json\n",
    "import numpy as np\n",
    "import pandas as pd\n",
    "from scipy.stats import chi2_contingency\n",
    "from sklearn.metrics import cohen_kappa_score\n",
    "from statsmodels.stats.proportion import proportions_ztest\n",
    "import seaborn as sns\n",
    "import matplotlib.pyplot as plt"
   ]
  },
  {
   "cell_type": "code",
   "execution_count": 25,
   "id": "ce9d475e",
   "metadata": {},
   "outputs": [],
   "source": [
    "with open(\"../../../../data/out/prompts_speaker_exp_Llama-3.2-1B.json\", encoding=\"utf-8\") as f:\n",
    "    res = json.load(f)"
   ]
  },
  {
   "cell_type": "code",
   "execution_count": 26,
   "id": "c135739d",
   "metadata": {},
   "outputs": [],
   "source": [
    "res_real = res[\"real\"]  # reproduction from real speakers\n",
    "res_real_plain = res_real[\"plain\"]  # focus on plain\n",
    "all_trials = []\n",
    "for experiment_data in res_real_plain:\n",
    "    all_trials.extend(experiment_data[\"trial_items\"])"
   ]
  },
  {
   "cell_type": "markdown",
   "id": "b49beb51",
   "metadata": {},
   "source": [
    "\n",
    "For each trial, we among other infos have the response probability distribution from the LM as well as the metadata of the trial, such as the polarity of the speaker's opinion and its match/mismatch with the listener's."
   ]
  },
  {
   "cell_type": "code",
   "execution_count": 27,
   "id": "9349e6c0",
   "metadata": {},
   "outputs": [
    {
     "data": {
      "text/plain": [
       "{'prompt': 'Hint: The opinions will be written in a plain text, from \"strongly negative\" to \"strongly positive\". \\n\\nStart!\\n===========================\\n\\nChristian wants to discuss the housing crisis with John.\\nChristian feels strongly positive about the issue.\\nChristian thinks that John feels strongly positive about it, but he is not sure.\\n\\nChristian wants to avoid possible conflicts. What would Christian say?\\n\\nA: The mayor\\'s decision about the housing crisis is awful.\\nB: The mayor\\'s decision about the housing crisis is rather bad.\\nC: The mayor\\'s decision about the housing crisis is okay.\\nD: The mayor\\'s decision about the housing crisis is decent.\\nE: The mayor\\'s decision about the housing crisis is great.\\n\\n\\n===========================\\n\\n\\nYour answer is ',\n",
       " 'metadata': {'match': True,\n",
       "  'conversational_goal': 'social',\n",
       "  'is_positive': True,\n",
       "  'response': 5},\n",
       " 'prob_distr': [0.2856429152058396,\n",
       "  0.14594884029104857,\n",
       "  0.25356185845659707,\n",
       "  0.1735633993005108,\n",
       "  0.14128298674600398],\n",
       " 'pred': 1}"
      ]
     },
     "execution_count": 27,
     "metadata": {},
     "output_type": "execute_result"
    }
   ],
   "source": [
    "all_trials[0]"
   ]
  },
  {
   "cell_type": "markdown",
   "id": "e698e3c2",
   "metadata": {},
   "source": [
    "# Overall Inter-rater Agreement\n",
    "\n",
    "First thing we do, we inspect the overall distribution of the ratings from the human participants and the LLM and to determine whether they come from the same distribution. For that, we apply the Chi-squared test of LLM outputs vs the human data as the reference."
   ]
  },
  {
   "cell_type": "code",
   "execution_count": 28,
   "id": "6f04e523",
   "metadata": {},
   "outputs": [],
   "source": [
    "# first, inspect overall distribution of predictions\n",
    "golds = np.array(\n",
    "    [trial[\"metadata\"][\"response\"] for trial in all_trials]\n",
    ")\n",
    "preds = np.array(\n",
    "    [trial[\"pred\"] for trial in all_trials]\n",
    ")"
   ]
  },
  {
   "cell_type": "code",
   "execution_count": 29,
   "id": "efef0395",
   "metadata": {},
   "outputs": [
    {
     "data": {
      "image/png": "[encoded data removed]",
      "text/plain": [
       "<Figure size 1000x500 with 1 Axes>"
      ]
     },
     "metadata": {},
     "output_type": "display_data"
    }
   ],
   "source": [
    "plt.figure(figsize=(10, 5))\n",
    "plt.hist(golds, bins=np.arange(1, 7)-0.5, alpha=0.5, label=\"Golds\")\n",
    "plt.hist(preds, bins=np.arange(1, 7)-0.5, alpha=0.5, label=\"Preds\")\n",
    "plt.xticks(range(1, 6))\n",
    "plt.xlabel(\"Label\")\n",
    "plt.ylabel(\"Count\")\n",
    "plt.title(\"Distribution of preds: Llama3.2-1B\")\n",
    "plt.legend()\n",
    "plt.savefig(\"llama3.2-1B_distribution.png\")\n",
    "plt.show()"
   ]
  },
  {
   "cell_type": "code",
   "execution_count": null,
   "id": "325171ec",
   "metadata": {},
   "outputs": [],
   "source": []
  },
  {
   "cell_type": "code",
   "execution_count": 30,
   "id": "90073740",
   "metadata": {},
   "outputs": [],
   "source": [
    "labels_gold, counts_gold = np.unique(golds, return_counts=True)\n",
    "counts_preds = np.array([preds.tolist().count(label) for label in labels_gold])"
   ]
  },
  {
   "cell_type": "code",
   "execution_count": 31,
   "id": "f2d85131",
   "metadata": {},
   "outputs": [
    {
     "data": {
      "text/plain": [
       "(np.float64(926.4938077733576), np.float64(3.028132673838996e-199))"
      ]
     },
     "execution_count": 31,
     "metadata": {},
     "output_type": "execute_result"
    }
   ],
   "source": [
    "contingency_table = np.array([counts_gold, counts_preds])\n",
    "chi2, p_value, _, _ = chi2_contingency(contingency_table)\n",
    "chi2, p_value"
   ]
  },
  {
   "cell_type": "markdown",
   "id": "05e0b966",
   "metadata": {},
   "source": [
    "Furthermore, we want to evaluate the similarity of the responses produced by the human participants and the LLM. When choosing the most appropriate utterance for a given trial, both the humans and the LM act as a rating engine; they choose the most probable rating on the given issue. We therefore apply the Cohen's Kappa test between the two arrays of ratings and report the inter-rater agreement."
   ]
  },
  {
   "cell_type": "code",
   "execution_count": 32,
   "id": "20766d8e",
   "metadata": {},
   "outputs": [
    {
     "data": {
      "text/plain": [
       "0.005605428292699943"
      ]
     },
     "execution_count": 32,
     "metadata": {},
     "output_type": "execute_result"
    }
   ],
   "source": [
    "kappa = cohen_kappa_score(golds, preds)\n",
    "kappa"
   ]
  },
  {
   "cell_type": "markdown",
   "id": "7b35e6de",
   "metadata": {},
   "source": [
    "# Effect of Opinions Match/Mismatch on the Proportions of Indirect Speech\n",
    "\n",
    "Following the original experiment from Achimova et al. (2025), we investigate the effect of opinions match/mismatch on the proportions of indirect speech with respect to the conversational goals. For that, we aggregate the data into samples by match/mismatch and goal properties, calculate the proportions of indirect speech within the samples, and compare the proportions of samples of the same goal when the opinions match/mismatch.\n",
    "\n",
    "By indirect speech we mean responses that are not faithful to the true opinion of the speaker. The proportions are compared with the two-proportion z-test."
   ]
  },
  {
   "cell_type": "markdown",
   "id": "4f1a920a",
   "metadata": {},
   "source": [
    "First, we collect the binary indirectness value (True/False)."
   ]
  },
  {
   "cell_type": "code",
   "execution_count": 33,
   "id": "3fd965ab",
   "metadata": {},
   "outputs": [],
   "source": [
    "for trial in all_trials:\n",
    "    expected = 5 if trial[\"metadata\"][\"is_positive\"] else 1\n",
    "    trial[\"is_indirect\"] = trial[\"pred\"] != expected"
   ]
  },
  {
   "cell_type": "code",
   "execution_count": 34,
   "id": "62f5d397",
   "metadata": {},
   "outputs": [
    {
     "data": {
      "text/plain": [
       "{'prompt': 'Hint: The opinions will be written in a plain text, from \"strongly negative\" to \"strongly positive\". \\n\\nStart!\\n===========================\\n\\nChristian wants to discuss the housing crisis with John.\\nChristian feels strongly positive about the issue.\\nChristian thinks that John feels strongly positive about it, but he is not sure.\\n\\nChristian wants to avoid possible conflicts. What would Christian say?\\n\\nA: The mayor\\'s decision about the housing crisis is awful.\\nB: The mayor\\'s decision about the housing crisis is rather bad.\\nC: The mayor\\'s decision about the housing crisis is okay.\\nD: The mayor\\'s decision about the housing crisis is decent.\\nE: The mayor\\'s decision about the housing crisis is great.\\n\\n\\n===========================\\n\\n\\nYour answer is ',\n",
       " 'metadata': {'match': True,\n",
       "  'conversational_goal': 'social',\n",
       "  'is_positive': True,\n",
       "  'response': 5},\n",
       " 'prob_distr': [0.2856429152058396,\n",
       "  0.14594884029104857,\n",
       "  0.25356185845659707,\n",
       "  0.1735633993005108,\n",
       "  0.14128298674600398],\n",
       " 'pred': 1,\n",
       " 'is_indirect': True}"
      ]
     },
     "execution_count": 34,
     "metadata": {},
     "output_type": "execute_result"
    }
   ],
   "source": [
    "all_trials[0]"
   ]
  },
  {
   "cell_type": "code",
   "execution_count": 35,
   "id": "9e5421ae",
   "metadata": {},
   "outputs": [
    {
     "name": "stderr",
     "output_type": "stream",
     "text": [
      "/var/folders/_8/wwb5csy9605g6rl6wf4lcfch0000gr/T/ipykernel_45095/2161252414.py:12: FutureWarning: \n",
      "\n",
      "The `errwidth` parameter is deprecated. And will be removed in v0.15.0. Pass `err_kws={'linewidth': 2}` instead.\n",
      "\n",
      "  sns.barplot(\n"
     ]
    },
    {
     "data": {
      "image/png": "[encoded data removed]",
      "text/plain": [
       "<Figure size 1000x600 with 1 Axes>"
      ]
     },
     "metadata": {},
     "output_type": "display_data"
    }
   ],
   "source": [
    "indirect_df = pd.DataFrame([\n",
    "    {\n",
    "        \"match\": \"opinions match\" if trial[\"metadata\"][\"match\"] else \"opinions mismatch\",\n",
    "        \"polarity\": \"strongly negative\" if not trial[\"metadata\"][\"is_positive\"] else \"strongly positive\",\n",
    "        \"is_indirect\": int(trial[\"is_indirect\"]),\n",
    "        \"goal\": trial[\"metadata\"][\"conversational_goal\"],\n",
    "    }\n",
    "    for trial in all_trials\n",
    "])\n",
    "\n",
    "fig, ax = plt.subplots(figsize=(10, 6))\n",
    "sns.barplot(\n",
    "    data=indirect_df,\n",
    "    x=\"match\",\n",
    "    y=\"is_indirect\",\n",
    "    hue=\"goal\",\n",
    "    order=[\"opinions match\", \"opinions mismatch\"],\n",
    "    hue_order=[\"informational\", \"mixed\", \"social\"],\n",
    "    errorbar=\"ci\",\n",
    "    errwidth=2,\n",
    "    capsize=0.1,\n",
    "    ax=ax\n",
    ")\n",
    "\n",
    "ax.set_title(\"Effect of opinions match/mismatch and conversational goals on utterance choice.\\nLlama3.2-1B\")\n",
    "ax.set_ylabel(\"Proportion of indirect responses\")\n",
    "ax.set_xlabel(\"\")\n",
    "ax.set_ylim(0, 1)\n",
    "ax.set_yticks([0, 0.25, 0.5, 0.75, 1.0])\n",
    "ax.set_yticklabels([\"0%\", \"25%\", \"50%\", \"75%\", \"100%\"])\n",
    "ax.legend(title=\"\")\n",
    "ax.grid(axis=\"y\", alpha=0.3, zorder=0)\n",
    "\n",
    "plt.savefig(\"llama3.2-1B_match.png\")\n",
    "plt.show()"
   ]
  },
  {
   "cell_type": "markdown",
   "id": "2e87d689",
   "metadata": {},
   "source": [
    "Run the pairwise z-tests."
   ]
  },
  {
   "cell_type": "code",
   "execution_count": 36,
   "id": "859bf5b8",
   "metadata": {},
   "outputs": [],
   "source": [
    "results = []\n",
    "goals = indirect_df[\"goal\"].unique()\n",
    "for goal in goals:\n",
    "\n",
    "    # aggregate data\n",
    "    goal_data = indirect_df[indirect_df[\"goal\"] == goal]\n",
    "    match_data = goal_data[goal_data[\"match\"] == \"opinions match\"][\"is_indirect\"]\n",
    "    mismatch_data = goal_data[goal_data[\"match\"] == \"opinions mismatch\"][\"is_indirect\"]\n",
    "    \n",
    "    # calculate proportions\n",
    "    n_match = len(match_data)\n",
    "    n_mismatch = len(mismatch_data)\n",
    "    n_indirect_match = match_data.sum()\n",
    "    n_indirect_mismatch = mismatch_data.sum()\n",
    "    n_indirect_prop_match =  n_indirect_match / n_match\n",
    "    n_indirect_prop_mismatch = n_indirect_mismatch / n_mismatch\n",
    "\n",
    "    # two-proportion z-test\n",
    "    count = np.array([n_indirect_match, n_indirect_mismatch])\n",
    "    nobs = np.array([n_match, n_mismatch])\n",
    "    z_stat, p_value = proportions_ztest(count, nobs)\n",
    "    \n",
    "    # store results for summary table\n",
    "    results.append({\n",
    "        \"conversational goal\": goal,\n",
    "        \"total number of responses, opinions match\": n_indirect_match,\n",
    "        \"proportion of indirect responses, opinions match\": n_indirect_prop_match,\n",
    "        \"total number of responses, opinions mismatch\": n_indirect_mismatch,\n",
    "        \"proportion of indirect responses, opinions mismatch\": n_indirect_prop_mismatch,\n",
    "        \"z-stat\": z_stat,\n",
    "        \"p-value\": p_value\n",
    "    })"
   ]
  },
  {
   "cell_type": "code",
   "execution_count": 37,
   "id": "7f251e60",
   "metadata": {},
   "outputs": [
    {
     "name": "stdout",
     "output_type": "stream",
     "text": [
      "conversational goal  total number of responses, opinions match  proportion of indirect responses, opinions match  total number of responses, opinions mismatch  proportion of indirect responses, opinions mismatch    z-stat  p-value\n",
      "             social                                         76                                          0.506667                                            92                                             0.567901 -1.084030 0.278352\n",
      "              mixed                                         74                                          0.480519                                           105                                             0.570652 -1.653426 0.098244\n",
      "      informational                                         90                                          0.532544                                            95                                             0.590062 -1.052314 0.292656\n"
     ]
    }
   ],
   "source": [
    "match_summary_df = pd.DataFrame(results)\n",
    "print(match_summary_df.to_string(index=False))"
   ]
  },
  {
   "cell_type": "markdown",
   "id": "baeaf146",
   "metadata": {},
   "source": [
    "# Effect of Speaker's Opinion on the Proportions of Indirect Speech\n",
    "\n",
    "We continue with investigating the effect of speaker's opinion (negative/positive) on the proportions of indirect speech with respect to the conversational goals. We follow the same approach as in the previous sub-experiment, but slice the data by the opinion's polarity."
   ]
  },
  {
   "cell_type": "code",
   "execution_count": 38,
   "id": "9366881c",
   "metadata": {},
   "outputs": [
    {
     "name": "stderr",
     "output_type": "stream",
     "text": [
      "/var/folders/_8/wwb5csy9605g6rl6wf4lcfch0000gr/T/ipykernel_45095/2281265513.py:2: FutureWarning: \n",
      "\n",
      "The `errwidth` parameter is deprecated. And will be removed in v0.15.0. Pass `err_kws={'linewidth': 2}` instead.\n",
      "\n",
      "  sns.barplot(\n"
     ]
    },
    {
     "data": {
      "image/png": "[encoded data removed]",
      "text/plain": [
       "<Figure size 1000x600 with 1 Axes>"
      ]
     },
     "metadata": {},
     "output_type": "display_data"
    }
   ],
   "source": [
    "fig, ax = plt.subplots(figsize=(10, 6))\n",
    "sns.barplot(\n",
    "    data=indirect_df,\n",
    "    x=\"polarity\",\n",
    "    y=\"is_indirect\",\n",
    "    hue=\"goal\",\n",
    "    order=[\"strongly negative\", \"strongly positive\"],\n",
    "    hue_order=[\"informational\", \"mixed\", \"social\"],\n",
    "    errorbar=\"ci\",\n",
    "    errwidth=2,\n",
    "    capsize=0.1,\n",
    "    ax=ax\n",
    ")\n",
    "\n",
    "ax.set_title(\"Utterance choice when opinions mismatch broken by the polarity of speaker’s opinion.\\nLlama3.2-1B\")\n",
    "ax.set_ylabel(\"Proportion of indirect responses\")\n",
    "ax.set_xlabel(\"\")\n",
    "ax.set_ylim(0, 1)\n",
    "ax.set_yticks([0, 0.25, 0.5, 0.75, 1.0])\n",
    "ax.set_yticklabels([\"0%\", \"25%\", \"50%\", \"75%\", \"100%\"])\n",
    "ax.legend(title=\"\")\n",
    "ax.grid(axis=\"y\", alpha=0.3, zorder=0)\n",
    "\n",
    "plt.savefig(\"llama3.2-1B_polarity.png\")\n",
    "plt.show()"
   ]
  },
  {
   "cell_type": "code",
   "execution_count": 39,
   "id": "ec3528f0",
   "metadata": {},
   "outputs": [],
   "source": [
    "results = []\n",
    "for goal in goals:\n",
    "\n",
    "    # aggregate data\n",
    "    goal_data = indirect_df[indirect_df[\"goal\"] == goal]\n",
    "    negative_data = goal_data[goal_data[\"polarity\"] == \"strongly negative\"][\"is_indirect\"]\n",
    "    positive_data = goal_data[goal_data[\"polarity\"] == \"strongly positive\"][\"is_indirect\"]\n",
    "\n",
    "    # calculate proportions\n",
    "    n_negative = len(negative_data)\n",
    "    n_positive = len(positive_data)\n",
    "    n_indirect_negative = negative_data.sum()\n",
    "    n_indirect_positive = positive_data.sum()\n",
    "    n_indirect_prop_negative =  n_indirect_negative / n_negative\n",
    "    n_indirect_prop_positive = n_indirect_positive / n_positive\n",
    "\n",
    "    # two-proportion z-test\n",
    "    count = np.array([n_indirect_negative, n_indirect_positive])\n",
    "    nobs = np.array([n_negative, n_positive])\n",
    "    z_stat, p_value = proportions_ztest(count, nobs)\n",
    "    \n",
    "    # store results for summary table\n",
    "    results.append({\n",
    "        \"conversational goal\": goal,\n",
    "        \"total number of responses, strongly negative\": n_indirect_negative,\n",
    "        \"proportion of indirect responses, strongly negative\": n_indirect_prop_negative,\n",
    "        \"total number of responses, strongly positive\": n_indirect_positive,\n",
    "        \"proportion of indirect responses, strongly positive\": n_indirect_prop_positive,\n",
    "        \"z-stat\": z_stat,\n",
    "        \"p-value\": p_value\n",
    "    })"
   ]
  },
  {
   "cell_type": "code",
   "execution_count": 40,
   "id": "7a425d0e",
   "metadata": {},
   "outputs": [
    {
     "name": "stdout",
     "output_type": "stream",
     "text": [
      "conversational goal  total number of responses, strongly negative  proportion of indirect responses, strongly negative  total number of responses, strongly positive  proportion of indirect responses, strongly positive     z-stat      p-value\n",
      "             social                                             9                                             0.058824                                           159                                                  1.0 -16.670812 2.136727e-62\n",
      "              mixed                                             7                                             0.042169                                           172                                                  1.0 -17.637644 1.266313e-69\n",
      "      informational                                             9                                             0.058442                                           176                                                  1.0 -17.192977 2.997388e-66\n"
     ]
    }
   ],
   "source": [
    "polarity_summary_df = pd.DataFrame(results)\n",
    "print(polarity_summary_df.to_string(index=False))"
   ]
  },
  {
   "cell_type": "markdown",
   "id": "999f566c",
   "metadata": {},
   "source": [
    "# Summary"
   ]
  },
  {
   "cell_type": "code",
   "execution_count": 42,
   "id": "e13bf913",
   "metadata": {},
   "outputs": [
    {
     "name": "stdout",
     "output_type": "stream",
     "text": [
      "Overall chi-squared statistic between golds and preds: 926.494, with p-value: 0.000\n",
      "\n",
      "\n",
      "Overall Cohen's kappa between golds and preds: 0.006\n",
      "\n",
      "\n",
      "Z-scores and p-values for the effect of opinions match/mismatch on the proportion of indirect responses, by conversational goal:\n",
      "conversational goal  total number of responses, opinions match  proportion of indirect responses, opinions match  total number of responses, opinions mismatch  proportion of indirect responses, opinions mismatch    z-stat  p-value\n",
      "             social                                         76                                          0.506667                                            92                                             0.567901 -1.084030 0.278352\n",
      "              mixed                                         74                                          0.480519                                           105                                             0.570652 -1.653426 0.098244\n",
      "      informational                                         90                                          0.532544                                            95                                             0.590062 -1.052314 0.292656\n",
      "\n",
      "\n",
      "Z-scores and p-values for the effect of polarity (strongly negative vs. strongly positive) on the proportion of indirect responses, by conversational goal:\n",
      "conversational goal  total number of responses, strongly negative  proportion of indirect responses, strongly negative  total number of responses, strongly positive  proportion of indirect responses, strongly positive     z-stat      p-value\n",
      "             social                                             9                                             0.058824                                           159                                                  1.0 -16.670812 2.136727e-62\n",
      "              mixed                                             7                                             0.042169                                           172                                                  1.0 -17.637644 1.266313e-69\n",
      "      informational                                             9                                             0.058442                                           176                                                  1.0 -17.192977 2.997388e-66\n",
      "\n"
     ]
    }
   ],
   "source": [
    "summary = f\"\"\"\\\n",
    "Overall chi-squared statistic between golds and preds: {chi2:.3f}, with p-value: {p_value:.3f}\n",
    "\n",
    "\n",
    "Overall Cohen's kappa between golds and preds: {kappa:.3f}\n",
    "\n",
    "\n",
    "Z-scores and p-values for the effect of opinions match/mismatch on the proportion of indirect responses, by conversational goal:\n",
    "{match_summary_df.to_string(index=False)}\n",
    "\n",
    "\n",
    "Z-scores and p-values for the effect of polarity (strongly negative vs. strongly positive) on the proportion of indirect responses, by conversational goal:\n",
    "{polarity_summary_df.to_string(index=False)}\n",
    "\"\"\"\n",
    "\n",
    "with open(\"llama3.2-1B_summary.txt\", \"w\", encoding=\"utf-8\") as f:\n",
    "    f.write(summary)\n",
    "\n",
    "print(summary)"
   ]
  }
 ],
 "metadata": {
  "kernelspec": {
   "display_name": ".venv",
   "language": "python",
   "name": "python3"
  },
  "language_info": {
   "codemirror_mode": {
    "name": "ipython",
    "version": 3
   },
   "file_extension": ".py",
   "mimetype": "text/x-python",
   "name": "python",
   "nbconvert_exporter": "python",
   "pygments_lexer": "ipython3",
   "version": "3.12.5"
  }
 },
 "nbformat": 4,
 "nbformat_minor": 5
}
