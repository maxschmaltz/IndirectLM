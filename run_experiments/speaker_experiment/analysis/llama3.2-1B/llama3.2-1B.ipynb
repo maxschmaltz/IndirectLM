{
 "cells": [
  {
   "cell_type": "markdown",
   "id": "508c6238",
   "metadata": {},
   "source": [
    "## Analysis of Experimental Outcomes. Llama3.2-1B.\n",
    "\n",
    "In this notebook, we inspect the outcomes of the speaker experiment (original experiment 2 in Achimova et al. 2025). The distribution of the indirect responses will be investigated following the original procedures from Achimova et al. (2025). That includes:\n",
    "\n",
    "1. Initial inspection of the outcome distributions.\n",
    "2. Investigating the effect of opinions match/mismatch on the proportions of indirect speech with respect to the conversational goals.\n",
    "3. Investigating the effect of speaker's opinion on the proportions of indirect speech with respect to the conversational goals."
   ]
  },
  {
   "cell_type": "markdown",
   "id": "4e0a0018",
   "metadata": {},
   "source": [
    "First, we load the experimental outcomes."
   ]
  },
  {
   "cell_type": "code",
   "execution_count": 1,
   "id": "e671da06",
   "metadata": {},
   "outputs": [],
   "source": [
    "import json\n",
    "import numpy as np\n",
    "import pandas as pd\n",
    "from scipy.stats import chi2_contingency\n",
    "from sklearn.metrics import cohen_kappa_score\n",
    "from statsmodels.stats.proportion import proportions_ztest\n",
    "import seaborn as sns\n",
    "import matplotlib.pyplot as plt"
   ]
  },
  {
   "cell_type": "code",
   "execution_count": 2,
   "id": "ce9d475e",
   "metadata": {},
   "outputs": [],
   "source": [
    "with open(\"../../../../data/out/prompts_speaker_exp_Llama-3.2-1B.json\", encoding=\"utf-8\") as f:\n",
    "    res = json.load(f)"
   ]
  },
  {
   "cell_type": "code",
   "execution_count": 3,
   "id": "c135739d",
   "metadata": {},
   "outputs": [],
   "source": [
    "res_real = res[\"real\"]  # reproduction from real speakers\n",
    "res_real_plain = res_real[\"plain\"]\n",
    "res_real_hearts = res_real[\"hearts\"]\n",
    "trials_plain, trials_hearts = [], []\n",
    "for experiment_data_plain, experiment_data_hearts in zip(res_real_plain, res_real_hearts):\n",
    "    trials_plain.extend(experiment_data_plain[\"trial_items\"])\n",
    "    trials_hearts.extend(experiment_data_hearts[\"trial_items\"])"
   ]
  },
  {
   "cell_type": "markdown",
   "id": "b49beb51",
   "metadata": {},
   "source": [
    "\n",
    "For each trial, we among other infos have the response probability distribution from the LM as well as the metadata of the trial, such as the polarity of the speaker's opinion and its match/mismatch with the listener's."
   ]
  },
  {
   "cell_type": "code",
   "execution_count": 4,
   "id": "9349e6c0",
   "metadata": {},
   "outputs": [
    {
     "data": {
      "text/plain": [
       "{'prompt': 'Hint: The opinions will be written in a plain text, from \"strongly negative\" to \"strongly positive\". \\n\\nStart!\\n===========================\\n\\nChristian wants to discuss the housing crisis with John.\\nChristian feels strongly positive about the issue.\\nChristian thinks that John feels strongly positive about it, but he is not sure.\\n\\nChristian wants to avoid possible conflicts. What would Christian say?\\n\\nA: The mayor\\'s decision about the housing crisis is awful.\\nB: The mayor\\'s decision about the housing crisis is rather bad.\\nC: The mayor\\'s decision about the housing crisis is okay.\\nD: The mayor\\'s decision about the housing crisis is decent.\\nE: The mayor\\'s decision about the housing crisis is great.\\n\\n\\n===========================\\n\\n\\nYour answer is ',\n",
       " 'metadata': {'match': True,\n",
       "  'conversational_goal': 'social',\n",
       "  'is_positive': True,\n",
       "  'response': 5},\n",
       " 'prob_distr': [0.2856429152058396,\n",
       "  0.14594884029104857,\n",
       "  0.25356185845659707,\n",
       "  0.1735633993005108,\n",
       "  0.14128298674600398],\n",
       " 'pred': 1}"
      ]
     },
     "execution_count": 4,
     "metadata": {},
     "output_type": "execute_result"
    }
   ],
   "source": [
    "trials_plain[0]"
   ]
  },
  {
   "cell_type": "markdown",
   "id": "e698e3c2",
   "metadata": {},
   "source": [
    "# Overall Inter-rater Agreement\n",
    "\n",
    "First thing we do, we inspect the overall distribution of the ratings from the human participants and the LLM and to determine whether they come from the same distribution. For that, we apply the Chi-squared test of LLM outputs vs the human data as the reference."
   ]
  },
  {
   "cell_type": "code",
   "execution_count": 5,
   "id": "6f04e523",
   "metadata": {},
   "outputs": [],
   "source": [
    "# first, inspect overall distribution of predictions\n",
    "golds = np.array(\n",
    "    [trial[\"metadata\"][\"response\"] for trial in trials_plain]\n",
    ")\n",
    "preds_plain = np.array(\n",
    "    [trial[\"pred\"] for trial in trials_plain]\n",
    ")\n",
    "preds_hearts = np.array(\n",
    "    [trial[\"pred\"] for trial in trials_hearts]\n",
    ")"
   ]
  },
  {
   "cell_type": "code",
   "execution_count": 6,
   "id": "efef0395",
   "metadata": {},
   "outputs": [
    {
     "data": {
      "image/png": "[encoded data removed]",
      "text/plain": [
       "<Figure size 1000x500 with 1 Axes>"
      ]
     },
     "metadata": {},
     "output_type": "display_data"
    }
   ],
   "source": [
    "plt.figure(figsize=(10, 5))\n",
    "plt.hist(golds, bins=np.arange(1, 7)-0.5, alpha=0.5, label=\"Golds\")\n",
    "plt.hist(preds_plain, bins=np.arange(1, 7)-0.5, alpha=0.5, label=\"Preds Plain\")\n",
    "plt.hist(preds_hearts, bins=np.arange(1, 7)-0.5, alpha=0.5, label=\"Preds Hearts\")\n",
    "plt.xticks(range(1, 6))\n",
    "plt.xlabel(\"Label\")\n",
    "plt.ylabel(\"Count\")\n",
    "plt.title(\"Distribution of preds: Llama3.2-1B\")\n",
    "plt.legend()\n",
    "plt.savefig(\"llama3.2-1B_distribution.png\")\n",
    "plt.show()"
   ]
  },
  {
   "cell_type": "code",
   "execution_count": 7,
   "id": "90073740",
   "metadata": {},
   "outputs": [],
   "source": [
    "labels_gold, counts_gold = np.unique(golds, return_counts=True)\n",
    "counts_preds_plain = np.array([preds_plain.tolist().count(label) for label in labels_gold])\n",
    "counts_preds_hearts = np.array([preds_hearts.tolist().count(label) for label in labels_gold])"
   ]
  },
  {
   "cell_type": "code",
   "execution_count": 8,
   "id": "f2d85131",
   "metadata": {},
   "outputs": [
    {
     "data": {
      "text/plain": [
       "(np.float64(919.559797743426), np.float64(9.629872899168427e-198))"
      ]
     },
     "execution_count": 8,
     "metadata": {},
     "output_type": "execute_result"
    }
   ],
   "source": [
    "contingency_table = np.array([counts_gold + 1, counts_preds_plain + 1])   # add-1 smoothing\n",
    "chi2_plain, p_value_plain, _, _ = chi2_contingency(contingency_table)\n",
    "chi2_plain, p_value_plain"
   ]
  },
  {
   "cell_type": "code",
   "execution_count": 9,
   "id": "530f352f",
   "metadata": {},
   "outputs": [
    {
     "data": {
      "text/plain": [
       "(np.float64(802.026116804268), np.float64(2.795643085839356e-172))"
      ]
     },
     "execution_count": 9,
     "metadata": {},
     "output_type": "execute_result"
    }
   ],
   "source": [
    "contingency_table = np.array([counts_gold + 1, counts_preds_hearts + 1])   # add-1 smoothing\n",
    "chi2_hearts, p_value_hearts, _, _ = chi2_contingency(contingency_table)\n",
    "chi2_hearts, p_value_hearts"
   ]
  },
  {
   "cell_type": "markdown",
   "id": "05e0b966",
   "metadata": {},
   "source": [
    "Furthermore, we want to evaluate the similarity of the responses produced by the human participants and the LLM. When choosing the most appropriate utterance for a given trial, both the humans and the LM act as a rating engine; they choose the most probable rating on the given issue. We therefore apply the Cohen's Kappa test between the two arrays of ratings and report the inter-rater agreement."
   ]
  },
  {
   "cell_type": "code",
   "execution_count": 10,
   "id": "20766d8e",
   "metadata": {},
   "outputs": [
    {
     "data": {
      "text/plain": [
       "(0.005605428292699943, 0.02781562756387257)"
      ]
     },
     "execution_count": 10,
     "metadata": {},
     "output_type": "execute_result"
    }
   ],
   "source": [
    "kappa_plain = cohen_kappa_score(golds, preds_plain)\n",
    "kappa_hearts = cohen_kappa_score(golds, preds_hearts)\n",
    "kappa_plain, kappa_hearts"
   ]
  },
  {
   "cell_type": "markdown",
   "id": "7b35e6de",
   "metadata": {},
   "source": [
    "# Effect of Opinions Match/Mismatch on the Proportions of Indirect Speech\n",
    "\n",
    "Following the original experiment from Achimova et al. (2025), we investigate the effect of opinions match/mismatch on the proportions of indirect speech with respect to the conversational goals. For that, we aggregate the data into samples by match/mismatch and goal properties, calculate the proportions of indirect speech within the samples, and compare the proportions of samples of the same goal when the opinions match/mismatch.\n",
    "\n",
    "By indirect speech we mean responses that are not faithful to the true opinion of the speaker. The proportions are compared with the two-proportion z-test."
   ]
  },
  {
   "cell_type": "markdown",
   "id": "4f1a920a",
   "metadata": {},
   "source": [
    "First, we collect the binary indirectness value (True/False)."
   ]
  },
  {
   "cell_type": "code",
   "execution_count": 11,
   "id": "3fd965ab",
   "metadata": {},
   "outputs": [],
   "source": [
    "for trial_plain, trial_hearts in zip(trials_plain, trials_hearts):\n",
    "    expected_plain = 5 if trial_plain[\"metadata\"][\"is_positive\"] else 1\n",
    "    trial_plain[\"is_indirect\"] = trial_plain[\"pred\"] != expected_plain\n",
    "    expected_hearts = 5 if trial_hearts[\"metadata\"][\"is_positive\"] else 1\n",
    "    trial_hearts[\"is_indirect\"] = trial_hearts[\"pred\"] != expected_hearts"
   ]
  },
  {
   "cell_type": "code",
   "execution_count": 12,
   "id": "62f5d397",
   "metadata": {},
   "outputs": [
    {
     "data": {
      "text/plain": [
       "{'prompt': 'Hint: The opinions will be written in a plain text, from \"strongly negative\" to \"strongly positive\". \\n\\nStart!\\n===========================\\n\\nChristian wants to discuss the housing crisis with John.\\nChristian feels strongly positive about the issue.\\nChristian thinks that John feels strongly positive about it, but he is not sure.\\n\\nChristian wants to avoid possible conflicts. What would Christian say?\\n\\nA: The mayor\\'s decision about the housing crisis is awful.\\nB: The mayor\\'s decision about the housing crisis is rather bad.\\nC: The mayor\\'s decision about the housing crisis is okay.\\nD: The mayor\\'s decision about the housing crisis is decent.\\nE: The mayor\\'s decision about the housing crisis is great.\\n\\n\\n===========================\\n\\n\\nYour answer is ',\n",
       " 'metadata': {'match': True,\n",
       "  'conversational_goal': 'social',\n",
       "  'is_positive': True,\n",
       "  'response': 5},\n",
       " 'prob_distr': [0.2856429152058396,\n",
       "  0.14594884029104857,\n",
       "  0.25356185845659707,\n",
       "  0.1735633993005108,\n",
       "  0.14128298674600398],\n",
       " 'pred': 1,\n",
       " 'is_indirect': True}"
      ]
     },
     "execution_count": 12,
     "metadata": {},
     "output_type": "execute_result"
    }
   ],
   "source": [
    "trials_plain[0]"
   ]
  },
  {
   "cell_type": "markdown",
   "id": "54d5f9e8",
   "metadata": {},
   "source": [
    "### Plain"
   ]
  },
  {
   "cell_type": "code",
   "execution_count": 13,
   "id": "9e5421ae",
   "metadata": {},
   "outputs": [
    {
     "name": "stderr",
     "output_type": "stream",
     "text": [
      "/var/folders/_8/wwb5csy9605g6rl6wf4lcfch0000gr/T/ipykernel_45549/1834026727.py:12: FutureWarning: \n",
      "\n",
      "The `errwidth` parameter is deprecated. And will be removed in v0.15.0. Pass `err_kws={'linewidth': 2}` instead.\n",
      "\n",
      "  sns.barplot(\n"
     ]
    },
    {
     "data": {
      "image/png": "[encoded data removed]",
      "text/plain": [
       "<Figure size 1000x600 with 1 Axes>"
      ]
     },
     "metadata": {},
     "output_type": "display_data"
    }
   ],
   "source": [
    "indirect_df_plain = pd.DataFrame([\n",
    "    {\n",
    "        \"match\": \"opinions match\" if trial[\"metadata\"][\"match\"] else \"opinions mismatch\",\n",
    "        \"polarity\": \"strongly negative\" if not trial[\"metadata\"][\"is_positive\"] else \"strongly positive\",\n",
    "        \"is_indirect\": int(trial[\"is_indirect\"]),\n",
    "        \"goal\": trial[\"metadata\"][\"conversational_goal\"],\n",
    "    }\n",
    "    for trial in trials_plain\n",
    "])\n",
    "\n",
    "fig, ax = plt.subplots(figsize=(10, 6))\n",
    "sns.barplot(\n",
    "    data=indirect_df_plain,\n",
    "    x=\"match\",\n",
    "    y=\"is_indirect\",\n",
    "    hue=\"goal\",\n",
    "    order=[\"opinions match\", \"opinions mismatch\"],\n",
    "    hue_order=[\"informational\", \"mixed\", \"social\"],\n",
    "    errorbar=\"ci\",\n",
    "    errwidth=2,\n",
    "    capsize=0.1,\n",
    "    ax=ax\n",
    ")\n",
    "\n",
    "ax.set_title(\"Effect of opinions match/mismatch and conversational goals on utterance choice.\\nLlama3.2-1B. Plain\")\n",
    "ax.set_ylabel(\"Proportion of indirect responses\")\n",
    "ax.set_xlabel(\"\")\n",
    "ax.set_ylim(0, 1)\n",
    "ax.set_yticks([0, 0.25, 0.5, 0.75, 1.0])\n",
    "ax.set_yticklabels([\"0%\", \"25%\", \"50%\", \"75%\", \"100%\"])\n",
    "ax.legend(title=\"\")\n",
    "ax.grid(axis=\"y\", alpha=0.3, zorder=0)\n",
    "\n",
    "plt.savefig(\"llama3.2-1B_match.png\")\n",
    "plt.show()"
   ]
  },
  {
   "cell_type": "markdown",
   "id": "2e87d689",
   "metadata": {},
   "source": [
    "Run the pairwise z-tests."
   ]
  },
  {
   "cell_type": "code",
   "execution_count": 14,
   "id": "859bf5b8",
   "metadata": {},
   "outputs": [],
   "source": [
    "results = []\n",
    "goals = indirect_df_plain[\"goal\"].unique()\n",
    "for goal in goals:\n",
    "\n",
    "    # aggregate data\n",
    "    goal_data = indirect_df_plain[indirect_df_plain[\"goal\"] == goal]\n",
    "    match_data = goal_data[goal_data[\"match\"] == \"opinions match\"][\"is_indirect\"]\n",
    "    mismatch_data = goal_data[goal_data[\"match\"] == \"opinions mismatch\"][\"is_indirect\"]\n",
    "    \n",
    "    # calculate proportions\n",
    "    n_match = len(match_data)\n",
    "    n_mismatch = len(mismatch_data)\n",
    "    n_indirect_match = match_data.sum()\n",
    "    n_indirect_mismatch = mismatch_data.sum()\n",
    "    n_indirect_prop_match =  n_indirect_match / n_match\n",
    "    n_indirect_prop_mismatch = n_indirect_mismatch / n_mismatch\n",
    "\n",
    "    # two-proportion z-test\n",
    "    count = np.array([n_indirect_match, n_indirect_mismatch])\n",
    "    nobs = np.array([n_match, n_mismatch])\n",
    "    z_stat, p_value = proportions_ztest(count, nobs)\n",
    "    \n",
    "    # store results for summary table\n",
    "    results.append({\n",
    "        \"conversational goal\": goal,\n",
    "        \"total number of responses, opinions match\": n_match,\n",
    "        \"proportion of indirect responses, opinions match\": n_indirect_prop_match,\n",
    "        \"total number of responses, opinions mismatch\": n_mismatch,\n",
    "        \"proportion of indirect responses, opinions mismatch\": n_indirect_prop_mismatch,\n",
    "        \"z-stat\": z_stat,\n",
    "        \"p-value\": p_value\n",
    "    })"
   ]
  },
  {
   "cell_type": "code",
   "execution_count": 15,
   "id": "7f251e60",
   "metadata": {},
   "outputs": [
    {
     "name": "stdout",
     "output_type": "stream",
     "text": [
      "conversational goal  total number of responses, opinions match  proportion of indirect responses, opinions match  total number of responses, opinions mismatch  proportion of indirect responses, opinions mismatch    z-stat  p-value\n",
      "             social                                        150                                          0.506667                                           162                                             0.567901 -1.084030 0.278352\n",
      "              mixed                                        154                                          0.480519                                           184                                             0.570652 -1.653426 0.098244\n",
      "      informational                                        169                                          0.532544                                           161                                             0.590062 -1.052314 0.292656\n"
     ]
    }
   ],
   "source": [
    "match_summary_df_plain = pd.DataFrame(results)\n",
    "print(match_summary_df_plain.to_string(index=False))"
   ]
  },
  {
   "cell_type": "markdown",
   "id": "f7f362c1",
   "metadata": {},
   "source": [
    "### Hearts"
   ]
  },
  {
   "cell_type": "code",
   "execution_count": 16,
   "id": "5e78bb1c",
   "metadata": {},
   "outputs": [
    {
     "name": "stderr",
     "output_type": "stream",
     "text": [
      "/var/folders/_8/wwb5csy9605g6rl6wf4lcfch0000gr/T/ipykernel_45549/2384899026.py:12: FutureWarning: \n",
      "\n",
      "The `errwidth` parameter is deprecated. And will be removed in v0.15.0. Pass `err_kws={'linewidth': 2}` instead.\n",
      "\n",
      "  sns.barplot(\n"
     ]
    },
    {
     "data": {
      "image/png": "[encoded data removed]",
      "text/plain": [
       "<Figure size 1000x600 with 1 Axes>"
      ]
     },
     "metadata": {},
     "output_type": "display_data"
    }
   ],
   "source": [
    "indirect_df_hearts = pd.DataFrame([\n",
    "    {\n",
    "        \"match\": \"opinions match\" if trial[\"metadata\"][\"match\"] else \"opinions mismatch\",\n",
    "        \"polarity\": \"strongly negative\" if not trial[\"metadata\"][\"is_positive\"] else \"strongly positive\",\n",
    "        \"is_indirect\": int(trial[\"is_indirect\"]),\n",
    "        \"goal\": trial[\"metadata\"][\"conversational_goal\"],\n",
    "    }\n",
    "    for trial in trials_hearts\n",
    "])\n",
    "\n",
    "fig, ax = plt.subplots(figsize=(10, 6))\n",
    "sns.barplot(\n",
    "    data=indirect_df_hearts,\n",
    "    x=\"match\",\n",
    "    y=\"is_indirect\",\n",
    "    hue=\"goal\",\n",
    "    order=[\"opinions match\", \"opinions mismatch\"],\n",
    "    hue_order=[\"informational\", \"mixed\", \"social\"],\n",
    "    errorbar=\"ci\",\n",
    "    errwidth=2,\n",
    "    capsize=0.1,\n",
    "    ax=ax\n",
    ")\n",
    "\n",
    "ax.set_title(\"Effect of opinions match/mismatch and conversational goals on utterance choice.\\nLlama3.2-1B. Hearts\")\n",
    "ax.set_ylabel(\"Proportion of indirect responses\")\n",
    "ax.set_xlabel(\"\")\n",
    "ax.set_ylim(0, 1)\n",
    "ax.set_yticks([0, 0.25, 0.5, 0.75, 1.0])\n",
    "ax.set_yticklabels([\"0%\", \"25%\", \"50%\", \"75%\", \"100%\"])\n",
    "ax.legend(title=\"\")\n",
    "ax.grid(axis=\"y\", alpha=0.3, zorder=0)\n",
    "\n",
    "plt.savefig(\"llama3.2-1B_match.png\")\n",
    "plt.show()"
   ]
  },
  {
   "cell_type": "markdown",
   "id": "e90635eb",
   "metadata": {},
   "source": [
    "Run the pairwise z-tests."
   ]
  },
  {
   "cell_type": "code",
   "execution_count": 17,
   "id": "a8d9b00b",
   "metadata": {},
   "outputs": [],
   "source": [
    "results = []\n",
    "goals = indirect_df_hearts[\"goal\"].unique()\n",
    "for goal in goals:\n",
    "\n",
    "    # aggregate data\n",
    "    goal_data = indirect_df_hearts[indirect_df_hearts[\"goal\"] == goal]\n",
    "    match_data = goal_data[goal_data[\"match\"] == \"opinions match\"][\"is_indirect\"]\n",
    "    mismatch_data = goal_data[goal_data[\"match\"] == \"opinions mismatch\"][\"is_indirect\"]\n",
    "    \n",
    "    # calculate proportions\n",
    "    n_match = len(match_data)\n",
    "    n_mismatch = len(mismatch_data)\n",
    "    n_indirect_match = match_data.sum()\n",
    "    n_indirect_mismatch = mismatch_data.sum()\n",
    "    n_indirect_prop_match =  n_indirect_match / n_match\n",
    "    n_indirect_prop_mismatch = n_indirect_mismatch / n_mismatch\n",
    "\n",
    "    # two-proportion z-test\n",
    "    count = np.array([n_indirect_match, n_indirect_mismatch])\n",
    "    nobs = np.array([n_match, n_mismatch])\n",
    "    z_stat, p_value = proportions_ztest(count, nobs)\n",
    "    \n",
    "    # store results for summary table\n",
    "    results.append({\n",
    "        \"conversational goal\": goal,\n",
    "        \"total number of responses, opinions match\": n_match,\n",
    "        \"proportion of indirect responses, opinions match\": n_indirect_prop_match,\n",
    "        \"total number of responses, opinions mismatch\": n_mismatch,\n",
    "        \"proportion of indirect responses, opinions mismatch\": n_indirect_prop_mismatch,\n",
    "        \"z-stat\": z_stat,\n",
    "        \"p-value\": p_value\n",
    "    })"
   ]
  },
  {
   "cell_type": "code",
   "execution_count": 18,
   "id": "6724e594",
   "metadata": {},
   "outputs": [
    {
     "name": "stdout",
     "output_type": "stream",
     "text": [
      "conversational goal  total number of responses, opinions match  proportion of indirect responses, opinions match  total number of responses, opinions mismatch  proportion of indirect responses, opinions mismatch    z-stat  p-value\n",
      "             social                                        150                                          0.546667                                           162                                             0.586420 -0.708105 0.478880\n",
      "              mixed                                        154                                          0.493506                                           184                                             0.559783 -1.215793 0.224064\n",
      "      informational                                        169                                          0.514793                                           161                                             0.565217 -0.918593 0.358309\n"
     ]
    }
   ],
   "source": [
    "match_summary_df_hearts = pd.DataFrame(results)\n",
    "print(match_summary_df_hearts.to_string(index=False))"
   ]
  },
  {
   "cell_type": "markdown",
   "id": "baeaf146",
   "metadata": {},
   "source": [
    "# Effect of Speaker's Opinion on the Proportions of Indirect Speech\n",
    "\n",
    "We continue with investigating the effect of speaker's opinion (negative/positive) on the proportions of indirect speech with respect to the conversational goals. We follow the same approach as in the previous sub-experiment, but take only the mismatch part of the data and slice the data by the opinion's polarity."
   ]
  },
  {
   "cell_type": "markdown",
   "id": "7fc63e65",
   "metadata": {},
   "source": [
    "### Plain"
   ]
  },
  {
   "cell_type": "code",
   "execution_count": 19,
   "id": "9366881c",
   "metadata": {},
   "outputs": [
    {
     "name": "stderr",
     "output_type": "stream",
     "text": [
      "/var/folders/_8/wwb5csy9605g6rl6wf4lcfch0000gr/T/ipykernel_45549/186891420.py:4: FutureWarning: \n",
      "\n",
      "The `errwidth` parameter is deprecated. And will be removed in v0.15.0. Pass `err_kws={'linewidth': 2}` instead.\n",
      "\n",
      "  sns.barplot(\n"
     ]
    },
    {
     "data": {
      "image/png": "[encoded data removed]",
      "text/plain": [
       "<Figure size 1000x600 with 1 Axes>"
      ]
     },
     "metadata": {},
     "output_type": "display_data"
    }
   ],
   "source": [
    "indirect_df_plain_mismatch =indirect_df_plain[indirect_df_plain[\"match\"] == \"opinions mismatch\"]\n",
    "\n",
    "fig, ax = plt.subplots(figsize=(10, 6))\n",
    "sns.barplot(\n",
    "    data=indirect_df_plain_mismatch,\n",
    "    x=\"polarity\",\n",
    "    y=\"is_indirect\",\n",
    "    hue=\"goal\",\n",
    "    order=[\"strongly negative\", \"strongly positive\"],\n",
    "    hue_order=[\"informational\", \"mixed\", \"social\"],\n",
    "    errorbar=\"ci\",\n",
    "    errwidth=2,\n",
    "    capsize=0.1,\n",
    "    ax=ax\n",
    ")\n",
    "\n",
    "ax.set_title(\"Utterance choice when opinions mismatch broken by the polarity of speaker’s opinion.\\nLlama3.2-1B. Plain\")\n",
    "ax.set_ylabel(\"Proportion of indirect responses\")\n",
    "ax.set_xlabel(\"\")\n",
    "ax.set_ylim(0, 1)\n",
    "ax.set_yticks([0, 0.25, 0.5, 0.75, 1.0])\n",
    "ax.set_yticklabels([\"0%\", \"25%\", \"50%\", \"75%\", \"100%\"])\n",
    "ax.legend(title=\"\")\n",
    "ax.grid(axis=\"y\", alpha=0.3, zorder=0)\n",
    "\n",
    "plt.savefig(\"llama3.2-1B_polarity.png\")\n",
    "plt.show()"
   ]
  },
  {
   "cell_type": "markdown",
   "id": "560dc633",
   "metadata": {},
   "source": [
    "Run the pairwise z-tests."
   ]
  },
  {
   "cell_type": "code",
   "execution_count": 20,
   "id": "ec3528f0",
   "metadata": {},
   "outputs": [],
   "source": [
    "results = []\n",
    "for goal in goals:\n",
    "\n",
    "    # aggregate data\n",
    "    goal_data = indirect_df_plain_mismatch[indirect_df_plain_mismatch[\"goal\"] == goal]\n",
    "    negative_data = goal_data[goal_data[\"polarity\"] == \"strongly negative\"][\"is_indirect\"]\n",
    "    positive_data = goal_data[goal_data[\"polarity\"] == \"strongly positive\"][\"is_indirect\"]\n",
    "\n",
    "    # calculate proportions\n",
    "    n_negative = len(negative_data)\n",
    "    n_positive = len(positive_data)\n",
    "    n_indirect_negative = negative_data.sum()\n",
    "    n_indirect_positive = positive_data.sum()\n",
    "    n_indirect_prop_negative =  n_indirect_negative / n_negative\n",
    "    n_indirect_prop_positive = n_indirect_positive / n_positive\n",
    "\n",
    "    # two-proportion z-test\n",
    "    count = np.array([n_indirect_negative, n_indirect_positive])\n",
    "    nobs = np.array([n_negative, n_positive])\n",
    "    z_stat, p_value = proportions_ztest(count, nobs)\n",
    "    \n",
    "    # store results for summary table\n",
    "    results.append({\n",
    "        \"conversational goal\": goal,\n",
    "        \"total number of responses, strongly negative\": n_negative,\n",
    "        \"proportion of indirect responses, strongly negative\": n_indirect_prop_negative,\n",
    "        \"total number of responses, strongly positive\": n_positive,\n",
    "        \"proportion of indirect responses, strongly positive\": n_indirect_prop_positive,\n",
    "        \"z-stat\": z_stat,\n",
    "        \"p-value\": p_value\n",
    "    })"
   ]
  },
  {
   "cell_type": "code",
   "execution_count": 21,
   "id": "7a425d0e",
   "metadata": {},
   "outputs": [
    {
     "name": "stdout",
     "output_type": "stream",
     "text": [
      "conversational goal  total number of responses, strongly negative  proportion of indirect responses, strongly negative  total number of responses, strongly positive  proportion of indirect responses, strongly positive     z-stat      p-value\n",
      "             social                                            75                                             0.066667                                            87                                                  1.0 -11.957534 5.929710e-33\n",
      "              mixed                                            84                                             0.059524                                           100                                                  1.0 -12.837728 1.007893e-37\n",
      "      informational                                            70                                             0.057143                                            91                                                  1.0 -12.058541 1.748521e-33\n"
     ]
    }
   ],
   "source": [
    "polarity_summary_df_plain = pd.DataFrame(results)\n",
    "print(polarity_summary_df_plain.to_string(index=False))"
   ]
  },
  {
   "cell_type": "markdown",
   "id": "1dc8dc6a",
   "metadata": {},
   "source": [
    "### Hearts"
   ]
  },
  {
   "cell_type": "code",
   "execution_count": 22,
   "id": "cfde3a08",
   "metadata": {},
   "outputs": [
    {
     "name": "stderr",
     "output_type": "stream",
     "text": [
      "/var/folders/_8/wwb5csy9605g6rl6wf4lcfch0000gr/T/ipykernel_45549/1971766647.py:4: FutureWarning: \n",
      "\n",
      "The `errwidth` parameter is deprecated. And will be removed in v0.15.0. Pass `err_kws={'linewidth': 2}` instead.\n",
      "\n",
      "  sns.barplot(\n"
     ]
    },
    {
     "data": {
      "image/png": "[encoded data removed]",
      "text/plain": [
       "<Figure size 1000x600 with 1 Axes>"
      ]
     },
     "metadata": {},
     "output_type": "display_data"
    }
   ],
   "source": [
    "indirect_df_hearts_mismatch = indirect_df_hearts[indirect_df_hearts[\"match\"] == \"opinions mismatch\"]\n",
    "\n",
    "fig, ax = plt.subplots(figsize=(10, 6))\n",
    "sns.barplot(\n",
    "    data=indirect_df_hearts_mismatch,\n",
    "    x=\"polarity\",\n",
    "    y=\"is_indirect\",\n",
    "    hue=\"goal\",\n",
    "    order=[\"strongly negative\", \"strongly positive\"],\n",
    "    hue_order=[\"informational\", \"mixed\", \"social\"],\n",
    "    errorbar=\"ci\",\n",
    "    errwidth=2,\n",
    "    capsize=0.1,\n",
    "    ax=ax\n",
    ")\n",
    "\n",
    "ax.set_title(\"Utterance choice when opinions mismatch broken by the polarity of speaker’s opinion.\\nLlama3.2-1B. Hearts\")\n",
    "ax.set_ylabel(\"Proportion of indirect responses\")\n",
    "ax.set_xlabel(\"\")\n",
    "ax.set_ylim(0, 1)\n",
    "ax.set_yticks([0, 0.25, 0.5, 0.75, 1.0])\n",
    "ax.set_yticklabels([\"0%\", \"25%\", \"50%\", \"75%\", \"100%\"])\n",
    "ax.legend(title=\"\")\n",
    "ax.grid(axis=\"y\", alpha=0.3, zorder=0)\n",
    "\n",
    "plt.savefig(\"llama3.2-1B_polarity.png\")\n",
    "plt.show()"
   ]
  },
  {
   "cell_type": "markdown",
   "id": "d07039cc",
   "metadata": {},
   "source": [
    "Run the pairwise z-tests."
   ]
  },
  {
   "cell_type": "code",
   "execution_count": 23,
   "id": "b94cf584",
   "metadata": {},
   "outputs": [],
   "source": [
    "results = []\n",
    "for goal in goals:\n",
    "\n",
    "    # aggregate data\n",
    "    goal_data = indirect_df_hearts_mismatch[indirect_df_hearts_mismatch[\"goal\"] == goal]\n",
    "    negative_data = goal_data[goal_data[\"polarity\"] == \"strongly negative\"][\"is_indirect\"]\n",
    "    positive_data = goal_data[goal_data[\"polarity\"] == \"strongly positive\"][\"is_indirect\"]\n",
    "\n",
    "    # calculate proportions\n",
    "    n_negative = len(negative_data)\n",
    "    n_positive = len(positive_data)\n",
    "    n_indirect_negative = negative_data.sum()\n",
    "    n_indirect_positive = positive_data.sum()\n",
    "    n_indirect_prop_negative =  n_indirect_negative / n_negative\n",
    "    n_indirect_prop_positive = n_indirect_positive / n_positive\n",
    "\n",
    "    # two-proportion z-test\n",
    "    count = np.array([n_indirect_negative, n_indirect_positive])\n",
    "    nobs = np.array([n_negative, n_positive])\n",
    "    z_stat, p_value = proportions_ztest(count, nobs)\n",
    "    \n",
    "    # store results for summary table\n",
    "    results.append({\n",
    "        \"conversational goal\": goal,\n",
    "        \"total number of responses, strongly negative\": n_negative,\n",
    "        \"proportion of indirect responses, strongly negative\": n_indirect_prop_negative,\n",
    "        \"total number of responses, strongly positive\": n_positive,\n",
    "        \"proportion of indirect responses, strongly positive\": n_indirect_prop_positive,\n",
    "        \"z-stat\": z_stat,\n",
    "        \"p-value\": p_value\n",
    "    })"
   ]
  },
  {
   "cell_type": "code",
   "execution_count": 24,
   "id": "bd9577c1",
   "metadata": {},
   "outputs": [
    {
     "name": "stdout",
     "output_type": "stream",
     "text": [
      "conversational goal  total number of responses, strongly negative  proportion of indirect responses, strongly negative  total number of responses, strongly positive  proportion of indirect responses, strongly positive     z-stat      p-value\n",
      "             social                                            75                                             0.106667                                            87                                                 1.00 -11.512300 1.143863e-30\n",
      "              mixed                                            84                                             0.047619                                           100                                                 0.99 -12.826670 1.162539e-37\n",
      "      informational                                            70                                             0.000000                                            91                                                 1.00 -12.688578 6.841708e-37\n"
     ]
    }
   ],
   "source": [
    "polarity_summary_df_hearts = pd.DataFrame(results) \n",
    "print(polarity_summary_df_hearts.to_string(index=False))"
   ]
  },
  {
   "cell_type": "markdown",
   "id": "05e20365",
   "metadata": {},
   "source": [
    "### Closer Inspection: Proportions of Indirect Speech Against the Conversational Goal, Strongly Negative, Opinions Mismatch"
   ]
  },
  {
   "cell_type": "code",
   "execution_count": 25,
   "id": "13c98d68",
   "metadata": {},
   "outputs": [],
   "source": [
    "from itertools import combinations"
   ]
  },
  {
   "cell_type": "code",
   "execution_count": 26,
   "id": "a33b3f10",
   "metadata": {},
   "outputs": [],
   "source": [
    "indirect_df_hearts_mismatch_sn = indirect_df_hearts_mismatch[indirect_df_hearts_mismatch[\"polarity\"] == \"strongly negative\"]\n",
    "\n",
    "results = []\n",
    "for goal_a, goal_b in combinations(goals, 2):\n",
    "\n",
    "    goal_data_a = indirect_df_hearts_mismatch_sn[indirect_df_hearts_mismatch_sn[\"goal\"] == goal_a]\n",
    "    goal_data_b = indirect_df_hearts_mismatch_sn[indirect_df_hearts_mismatch_sn[\"goal\"] == goal_b]\n",
    "    data_a = goal_data_a[\"is_indirect\"]\n",
    "    data_b = goal_data_b[\"is_indirect\"]\n",
    "\n",
    "    # calculate proportions\n",
    "    n_a = len(data_a)\n",
    "    n_b = len(data_b)\n",
    "    n_indirect_a = data_a.sum()\n",
    "    n_indirect_b = data_b.sum()\n",
    "    n_indirect_prop_a =  n_indirect_a / n_a\n",
    "    n_indirect_prop_b = n_indirect_b / n_b\n",
    "\n",
    "    # two-proportion z-test\n",
    "    count = np.array([n_indirect_a, n_indirect_b])\n",
    "    nobs = np.array([n_a, n_b])\n",
    "    z_stat, p_value = proportions_ztest(count, nobs)\n",
    "    \n",
    "    # store results for summary table\n",
    "    results.append({\n",
    "        \"conversational goal A\": goal_a,\n",
    "        \"conversational goal B\": goal_b,\n",
    "        \"total number of responses, strongly negative, A\": n_a,\n",
    "        \"proportion of indirect responses, strongly negative, A\": n_indirect_prop_a,\n",
    "        \"total number of responses, strongly negative, B\": n_b,\n",
    "        \"proportion of indirect responses, strongly negative, B\": n_indirect_prop_b,\n",
    "        \"z-stat\": z_stat,\n",
    "        \"p-value\": p_value\n",
    "    })"
   ]
  },
  {
   "cell_type": "code",
   "execution_count": 27,
   "id": "21d3df21",
   "metadata": {},
   "outputs": [
    {
     "name": "stdout",
     "output_type": "stream",
     "text": [
      "conversational goal A conversational goal B  total number of responses, strongly negative, A  proportion of indirect responses, strongly negative, A  total number of responses, strongly negative, B  proportion of indirect responses, strongly negative, B   z-stat  p-value\n",
      "               social                 mixed                                               75                                                0.106667                                               84                                                0.047619 1.407090 0.159401\n",
      "               social         informational                                               75                                                0.106667                                               70                                                0.000000 2.811170 0.004936\n",
      "                mixed         informational                                               84                                                0.047619                                               70                                                0.000000 1.849925 0.064324\n"
     ]
    }
   ],
   "source": [
    "polarity_summary_df_hearts_sn = pd.DataFrame(results) \n",
    "print(polarity_summary_df_hearts_sn.to_string(index=False))"
   ]
  },
  {
   "cell_type": "markdown",
   "id": "a9b5cade",
   "metadata": {},
   "source": [
    "# Bonus: Effect of Plain vs Hearts Wording\n",
    "\n",
    "We will run the Cohen's Kappa test on the outputs, produced by the LLM when prompted in the plain/hearts style, and determine its effect on LLM's judgments. "
   ]
  },
  {
   "cell_type": "code",
   "execution_count": 28,
   "id": "e13fa8ff",
   "metadata": {},
   "outputs": [
    {
     "data": {
      "text/plain": [
       "(np.float64(17.046919315116753), np.float64(0.0018927935633083926))"
      ]
     },
     "execution_count": 28,
     "metadata": {},
     "output_type": "execute_result"
    }
   ],
   "source": [
    "contingency_table = np.array([counts_preds_plain + 1, counts_preds_hearts + 1])   # add-1 smoothing\n",
    "chi2_wording, p_value_wording, _, _ = chi2_contingency(contingency_table)\n",
    "chi2_wording, p_value_wording"
   ]
  },
  {
   "cell_type": "code",
   "execution_count": 29,
   "id": "5d375561",
   "metadata": {},
   "outputs": [
    {
     "data": {
      "text/plain": [
       "0.16179113059728312"
      ]
     },
     "execution_count": 29,
     "metadata": {},
     "output_type": "execute_result"
    }
   ],
   "source": [
    "kappa_wording = cohen_kappa_score(preds_plain, preds_hearts)\n",
    "kappa_wording"
   ]
  },
  {
   "cell_type": "markdown",
   "id": "999f566c",
   "metadata": {},
   "source": [
    "# Summary"
   ]
  },
  {
   "cell_type": "code",
   "execution_count": 30,
   "id": "e13bf913",
   "metadata": {},
   "outputs": [
    {
     "name": "stdout",
     "output_type": "stream",
     "text": [
      "OVERALL DISTRIBUTIONS\n",
      "\n",
      "\n",
      "Overall chi-squared statistic between golds and preds, plain: 919.560, with p-value: 0.000\n",
      "Overall chi-squared statistic between golds and preds, hearts: 802.026, with p-value: 0.000\n",
      "\n",
      "\n",
      "Overall Cohen's kappa between golds and preds, plain: 0.006\n",
      "Overall Cohen's kappa between golds and preds, hearts: 0.028\n",
      "\n",
      "\n",
      "\n",
      "EFFECT OF MATCH/MISMATCH\n",
      "\n",
      "Z-scores and p-values for the effect of opinions match/mismatch on the proportion of indirect responses, by conversational goal, plain:\n",
      "conversational goal  total number of responses, opinions match  proportion of indirect responses, opinions match  total number of responses, opinions mismatch  proportion of indirect responses, opinions mismatch    z-stat  p-value\n",
      "             social                                        150                                          0.506667                                           162                                             0.567901 -1.084030 0.278352\n",
      "              mixed                                        154                                          0.480519                                           184                                             0.570652 -1.653426 0.098244\n",
      "      informational                                        169                                          0.532544                                           161                                             0.590062 -1.052314 0.292656\n",
      "\n",
      "\n",
      "Z-scores and p-values for the effect of opinions match/mismatch on the proportion of indirect responses, by conversational goal, hearts:\n",
      "conversational goal  total number of responses, opinions match  proportion of indirect responses, opinions match  total number of responses, opinions mismatch  proportion of indirect responses, opinions mismatch    z-stat  p-value\n",
      "             social                                        150                                          0.546667                                           162                                             0.586420 -0.708105 0.478880\n",
      "              mixed                                        154                                          0.493506                                           184                                             0.559783 -1.215793 0.224064\n",
      "      informational                                        169                                          0.514793                                           161                                             0.565217 -0.918593 0.358309\n",
      "\n",
      "\n",
      "\n",
      "EFFECT OF POLARITY\n",
      "\n",
      "\n",
      "Z-scores and p-values for the effect of polarity (strongly negative vs. strongly positive) on the proportion of indirect responses, by conversational goal, plain:\n",
      "conversational goal  total number of responses, strongly negative  proportion of indirect responses, strongly negative  total number of responses, strongly positive  proportion of indirect responses, strongly positive     z-stat      p-value\n",
      "             social                                            75                                             0.066667                                            87                                                  1.0 -11.957534 5.929710e-33\n",
      "              mixed                                            84                                             0.059524                                           100                                                  1.0 -12.837728 1.007893e-37\n",
      "      informational                                            70                                             0.057143                                            91                                                  1.0 -12.058541 1.748521e-33\n",
      "\n",
      "\n",
      "Z-scores and p-values for the effect of polarity (strongly negative vs. strongly positive) on the proportion of indirect responses, by conversational goal, hearts:\n",
      "conversational goal  total number of responses, strongly negative  proportion of indirect responses, strongly negative  total number of responses, strongly positive  proportion of indirect responses, strongly positive     z-stat      p-value\n",
      "             social                                            75                                             0.106667                                            87                                                 1.00 -11.512300 1.143863e-30\n",
      "              mixed                                            84                                             0.047619                                           100                                                 0.99 -12.826670 1.162539e-37\n",
      "      informational                                            70                                             0.000000                                            91                                                 1.00 -12.688578 6.841708e-37\n",
      "\n",
      "\n",
      "Pairwise comparisons between conversational goals for strongly negative opinions, hearts:\n",
      "conversational goal A conversational goal B  total number of responses, strongly negative, A  proportion of indirect responses, strongly negative, A  total number of responses, strongly negative, B  proportion of indirect responses, strongly negative, B   z-stat  p-value\n",
      "               social                 mixed                                               75                                                0.106667                                               84                                                0.047619 1.407090 0.159401\n",
      "               social         informational                                               75                                                0.106667                                               70                                                0.000000 2.811170 0.004936\n",
      "                mixed         informational                                               84                                                0.047619                                               70                                                0.000000 1.849925 0.064324\n",
      "\n",
      "\n",
      "\n",
      "EFFECT OF WORDING\n",
      "\n",
      "\n",
      "Overall chi-squared statistic between golds and preds: 17.047, with p-value: 0.002\n",
      "\n",
      "\n",
      "Overall Cohen's kappa between golds and preds: 0.162\n",
      "\n"
     ]
    }
   ],
   "source": [
    "summary = f\"\"\"\\\n",
    "OVERALL DISTRIBUTIONS\n",
    "\n",
    "\n",
    "Overall chi-squared statistic between golds and preds, plain: {chi2_plain:.3f}, with p-value: {p_value_plain:.3f}\n",
    "Overall chi-squared statistic between golds and preds, hearts: {chi2_hearts:.3f}, with p-value: {p_value_hearts:.3f}\n",
    "\n",
    "\n",
    "Overall Cohen's kappa between golds and preds, plain: {kappa_plain:.3f}\n",
    "Overall Cohen's kappa between golds and preds, hearts: {kappa_hearts:.3f}\n",
    "\n",
    "\n",
    "\n",
    "EFFECT OF MATCH/MISMATCH\n",
    "\n",
    "Z-scores and p-values for the effect of opinions match/mismatch on the proportion of indirect responses, by conversational goal, plain:\n",
    "{match_summary_df_plain.to_string(index=False)}\n",
    "\n",
    "\n",
    "Z-scores and p-values for the effect of opinions match/mismatch on the proportion of indirect responses, by conversational goal, hearts:\n",
    "{match_summary_df_hearts.to_string(index=False)}\n",
    "\n",
    "\n",
    "\n",
    "EFFECT OF POLARITY\n",
    "\n",
    "\n",
    "Z-scores and p-values for the effect of polarity (strongly negative vs. strongly positive) on the proportion of indirect responses, by conversational goal, plain:\n",
    "{polarity_summary_df_plain.to_string(index=False)}\n",
    "\n",
    "\n",
    "Z-scores and p-values for the effect of polarity (strongly negative vs. strongly positive) on the proportion of indirect responses, by conversational goal, hearts:\n",
    "{polarity_summary_df_hearts.to_string(index=False)}\n",
    "\n",
    "\n",
    "Pairwise comparisons between conversational goals for strongly negative opinions, hearts:\n",
    "{polarity_summary_df_hearts_sn.to_string(index=False)}\n",
    "\n",
    "\n",
    "\n",
    "EFFECT OF WORDING\n",
    "\n",
    "\n",
    "Overall chi-squared statistic between golds and preds: {chi2_wording:.3f}, with p-value: {p_value_wording:.3f}\n",
    "\n",
    "\n",
    "Overall Cohen's kappa between golds and preds: {kappa_wording:.3f}\n",
    "\"\"\"\n",
    "\n",
    "with open(\"llama3.2-1B_summary.txt\", \"w\", encoding=\"utf-8\") as f:\n",
    "    f.write(summary)\n",
    "\n",
    "print(summary)"
   ]
  }
 ],
 "metadata": {
  "kernelspec": {
   "display_name": ".venv",
   "language": "python",
   "name": "python3"
  },
  "language_info": {
   "codemirror_mode": {
    "name": "ipython",
    "version": 3
   },
   "file_extension": ".py",
   "mimetype": "text/x-python",
   "name": "python",
   "nbconvert_exporter": "python",
   "pygments_lexer": "ipython3",
   "version": "3.12.5"
  }
 },
 "nbformat": 4,
 "nbformat_minor": 5
}
